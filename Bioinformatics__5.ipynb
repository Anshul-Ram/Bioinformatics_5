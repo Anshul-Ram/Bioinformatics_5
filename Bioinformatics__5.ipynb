{
  "nbformat": 4,
  "nbformat_minor": 0,
  "metadata": {
    "colab": {
      "name": "Bioinformatics_#5.ipynb",
      "provenance": [],
      "collapsed_sections": []
    },
    "kernelspec": {
      "name": "python3",
      "display_name": "Python 3"
    },
    "language_info": {
      "name": "python"
    }
  },
  "cells": [
    {
      "cell_type": "markdown",
      "metadata": {
        "id": "pzjRyhSDBFjE"
      },
      "source": [
        "# Week 5"
      ]
    },
    {
      "cell_type": "code",
      "metadata": {
        "id": "HZz1Fz1ZBDPb"
      },
      "source": [
        "DNA = input( \"Input the gneome: \" )\n",
        "DNA = DNA.split()"
      ],
      "execution_count": null,
      "outputs": []
    },
    {
      "cell_type": "markdown",
      "metadata": {
        "id": "is8cD5NWBOvy"
      },
      "source": [
        "# Needed to remove the string at the beginning of each of the DNA strings."
      ]
    },
    {
      "cell_type": "code",
      "metadata": {
        "id": "RWj4YVwfBOIS"
      },
      "source": [
        "DNA_prime = []\n",
        "\n",
        "\n",
        "for i in range( len( DNA ) ):\n",
        "\n",
        "  if i % 2 == 1:\n",
        "\n",
        "    DNA_prime.append( DNA[ i ] )\n",
        "\n",
        "\n",
        "DNA = DNA_prime\n",
        "\n",
        "\n",
        "print( DNA[ 0:5 ] )\n"
      ],
      "execution_count": null,
      "outputs": []
    },
    {
      "cell_type": "markdown",
      "metadata": {
        "id": "0wD1kTepBUY6"
      },
      "source": [
        "# The Hamming distance function once again."
      ]
    },
    {
      "cell_type": "code",
      "metadata": {
        "id": "IWNgtNpQBXKZ"
      },
      "source": [
        "def HammingDistanceArray( fg, sg ):\n",
        "\n",
        "\n",
        "  distance = 0\n",
        "\n",
        "  for i in range( len( fg ) ):\n",
        "\n",
        "    for j in range( len(fg[0]) ):\n",
        "\n",
        "      \n",
        "      if list( fg[ i ] ) [ j ] != sg[ j ]:\n",
        "        distance += 1\n",
        "\n",
        "  return distance"
      ],
      "execution_count": null,
      "outputs": []
    },
    {
      "cell_type": "markdown",
      "metadata": {
        "id": "nr-ShFwACTTb"
      },
      "source": [
        "# Adapting the randomized motif search from the previous notebooks for this weeks quiz."
      ]
    },
    {
      "cell_type": "code",
      "metadata": {
        "id": "JidqacHHB3Uj"
      },
      "source": [
        "#DNA = input(\"DNA strings: \").split()\n",
        "\n",
        "k = int( input(\"k: \") )\n",
        "\n",
        "initial_motif_matrix = [ string[0:k] for string in DNA ]\n",
        "\n",
        "len_DNA = len(DNA)\n",
        "\n",
        "alphabet = [ \"A\", \"C\", \"G\", \"T\"]\n",
        "\n",
        "alpha_dict = { \"A\": 0, \"C\": 1, \"G\": 2, \"T\": 3 }\n",
        "\n",
        "motif = []\n",
        "\n",
        "best_motif = []\n",
        "\n",
        "motif_score = 0\n",
        "\n",
        "best_ham = 0\n",
        "\n",
        "\n",
        "\n",
        "def Score_Motif( motifs, consensus_string ):\n",
        "\n",
        "  score_motif = 0\n",
        "\n",
        "  for kmer in motif:\n",
        "\n",
        "    for i in range( k ):\n",
        "\n",
        "      if kmer[i] != consensus_string[i]:\n",
        "\n",
        "        score_motif += 1\n",
        "\n",
        "  return score_motif\n",
        "\n",
        "\n",
        "\n",
        "def Find_Profile( motifs, position ):\n",
        "\n",
        "\n",
        "  for i in range( len_DNA - position ):\n",
        "\n",
        "    freq_table = {}\n",
        "\n",
        "    for j in range( 1, len( DNA[0] ) - k + 1):\n",
        "\n",
        "      motif_i_trial = DNA[ position + i ][ j:(j + k) ]\n",
        "\n",
        "      freq_table[ motif_i_trial ] = HammingDistanceArray( motif[0:position], motif_i_trial )\n",
        "\n",
        "    motif[ i + position ] = min( freq_table, key=freq_table.get )\n",
        "\n",
        "\n",
        "def Find_Profile2( motifs, position ):\n",
        "\n",
        "\n",
        "  # Generate a blank profile matrix.\n",
        "  profile = [ ]\n",
        "\n",
        "  consensus_string = \"\"\n",
        "\n",
        "  consensus_prob = []\n",
        "\n",
        "  for nuc in alphabet:\n",
        "\n",
        "    blank_kmer = [ 1 for i in range( k ) ]\n",
        "\n",
        "    for mot in motifs[ 0:position ]:\n",
        "\n",
        "      for j in range( k ):\n",
        "\n",
        "        if mot[ j ] == nuc:\n",
        "\n",
        "          blank_kmer[ j ] += 1\n",
        "\n",
        "    profile.append( blank_kmer )\n",
        "\n",
        "\n",
        "  for i in range( k ):\n",
        "\n",
        "    total_freq = profile[ 0 ][ i ] + profile[ 1 ][ i ] + profile[ 2 ][ i ] + profile[ 3 ][ i ]\n",
        "\n",
        "    for j in range( 4 ):\n",
        "\n",
        "      profile[ j ][ i ] = profile[ j ][ i ] / total_freq\n",
        "\n",
        "      consensus_prob.append( profile[ j ][ i ] )\n",
        "\n",
        "    consensus_string += list(alpha_dict.keys())[consensus_prob.index( max( consensus_prob ) )]\n",
        "    consensus_prob = []\n",
        "  \n",
        "\n",
        "  # Need to check whether this piece of code works.\n",
        "  for i in range( len_DNA - position ):\n",
        "\n",
        "    freq_table = {}\n",
        "\n",
        "    for j in range( 0, len( DNA[0] ) - k + 1):\n",
        "\n",
        "      motif_i_trial = DNA[ position + i ][ j:(j + k) ]\n",
        "\n",
        "      prob = 1\n",
        "\n",
        "      for p in range( k ):\n",
        "\n",
        "        # There may be an error here. \n",
        "        prob *= profile[ alpha_dict[ motif_i_trial[ p ] ]  ] [ p ]\n",
        "\n",
        "      freq_table[ motif_i_trial ] = 1 - prob\n",
        "\n",
        "    motif[ i + position ] = min( freq_table, key=freq_table.get )\n",
        "\n",
        "\n",
        "  return consensus_string\n",
        "\n",
        "\n",
        "\n",
        "# Crafting the initial motif matrix.\n",
        "motif = initial_motif_matrix\n",
        "\n",
        "#best_ham = HammingDistanceArray( motif[ 0:len_DNA ], motif[ 0 ] )\n",
        "\n",
        "\n",
        "profile = [ ]\n",
        "\n",
        "consensus_string = \"\"\n",
        "\n",
        "consensus_prob = []\n",
        "\n",
        "for nuc in alphabet:\n",
        "\n",
        "  blank_kmer = [ 1 for i in range( k ) ]\n",
        "\n",
        "  for mot in motif:\n",
        "\n",
        "    for j in range( k ):\n",
        "\n",
        "      if mot[ j ] == nuc:\n",
        "\n",
        "        blank_kmer[ j ] += 1\n",
        "\n",
        "  profile.append( blank_kmer )\n",
        "\n",
        "\n",
        "for i in range( k ):\n",
        "\n",
        "  total_freq = profile[ 0 ][ i ] + profile[ 1 ][ i ] + profile[ 2 ][ i ] + profile[ 3 ][ i ]\n",
        "\n",
        "  #print( 'Profile matrix before modification: ', profile )\n",
        "\n",
        "  for j in range( 4 ):\n",
        "\n",
        "    profile[ j ][ i ] = profile[ j ][ i ] / total_freq\n",
        "\n",
        "    consensus_prob.append( profile[ j ][ i ] )\n",
        "\n",
        "  #print( 'Profile matrix after modification: ', profile )\n",
        "\n",
        "  #consensus_string += list(alpha_dict.keys())[list(alpha_dict.values()).index( max( consensus_prob ) )]\n",
        "\n",
        "  #consensus_string += list(alpha_dict.keys())[consensus_prob.index( max( consensus_prob ) )]\n",
        "  consensus_string += alphabet[consensus_prob.index( max( consensus_prob ) )]\n",
        "  consensus_prob = []\n",
        "\n",
        "  #print( consensus_string )\n",
        "\n",
        "print( 'profile matrix: ', profile )\n",
        "\n",
        "best_score = Score_Motif( motif, consensus_string )\n",
        "\n",
        "print( \"Initial motif: \", motif )\n",
        "\n",
        "\n",
        "for j in range( 1, (len( DNA[0] ) - k + 1) ):\n",
        "\n",
        "  motif[ 0 ] = DNA[ 0 ][ j:(j + k) ]\n",
        "\n",
        "  #print( motif[ 0 ] )\n",
        "\n",
        "  #print( DNA[0], DNA[ 0 ][ j:(j + k) ] )\n",
        "\n",
        "  for i in range( 1, len_DNA ):\n",
        "\n",
        "    # I don't understand whats going on here.\n",
        "    consensus_string = Find_Profile2( motif, i )\n",
        "    \n",
        "  Motif_score = Score_Motif( motif, consensus_string )\n",
        "  #print( \"\\n\", motif, \" \", Motif_score, \" \", consensus_string )\n",
        "\n",
        "  if best_score > Motif_score:\n",
        "\n",
        "    best_motif = motif.copy()\n",
        "    best_score = Motif_score\n",
        "\n",
        "  #print( \"\\n Motif: \", motif )\n",
        "\n",
        "  #print( \"\\n   Best motif: \", best_motif )\n",
        "\n",
        "print( best_motif )"
      ],
      "execution_count": null,
      "outputs": []
    },
    {
      "cell_type": "markdown",
      "metadata": {
        "id": "CDcysLjzCb9S"
      },
      "source": [
        "# Finding the positions of each of the k-mers identified within the genome."
      ]
    },
    {
      "cell_type": "code",
      "metadata": {
        "id": "F11yjY3sChXp"
      },
      "source": [
        "for i in range( len( DNA ) ):\n",
        "\n",
        "  print( DNA[ i ].find( best_motif[ i ] ) )"
      ],
      "execution_count": null,
      "outputs": []
    }
  ]
}